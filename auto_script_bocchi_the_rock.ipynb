{
  "nbformat": 4,
  "nbformat_minor": 0,
  "metadata": {
    "colab": {
      "provenance": [],
      "authorship_tag": "ABX9TyOCEhdpw0ZlV0iV3jeL8Xab",
      "include_colab_link": true
    },
    "kernelspec": {
      "name": "python3",
      "display_name": "Python 3"
    },
    "language_info": {
      "name": "python"
    }
  },
  "cells": [
    {
      "cell_type": "markdown",
      "metadata": {
        "id": "view-in-github",
        "colab_type": "text"
      },
      "source": [
        "<a href=\"https://colab.research.google.com/github/bowkaka/stable-diffusion/blob/main/auto_script_bocchi_the_rock.ipynb\" target=\"_parent\"><img src=\"https://colab.research.google.com/assets/colab-badge.svg\" alt=\"Open In Colab\"/></a>"
      ]
    },
    {
      "cell_type": "code",
      "execution_count": null,
      "metadata": {
        "id": "AMFWAI_02bCZ"
      },
      "outputs": [],
      "source": [
        "\n",
        "import os\n",
        "from google.colab import drive\n",
        "drive_path = \"/content/Gdrive\"\n",
        "try:\n",
        "     drive.mount(drive_path, force_remount=True)\n",
        "except:\n",
        "    print('Mount Error')\n",
        "    raise\n",
        "os.makedirs(f\"/content/Gdrive/MyDrive/stable-diffusion-outputs\", exist_ok=True)\n",
        "\n",
        "\n",
        "!pip install --upgrade fastapi==0.90.0\n",
        "!git clone https://github.com/AUTOMATIC1111/stable-diffusion-webui\n",
        "!git clone https://github.com/yfszzx/stable-diffusion-webui-images-browser /content/stable-diffusion-webui/extensions/stable-diffusion-webui-images-browser\n",
        "!curl -Lo chilloutmixni.safetensors https://huggingface.co/nolanaatama/chomni/resolve/main/chomni.safetensors\n",
        "!curl -Lo ulzzang-6500.pt https://huggingface.co/nolanaatama/chomni/resolve/main/ulzzang-6500.pt\n",
        "!curl -Lo koreanDollLikeness_v10.safetensors https://huggingface.co/duthanhduoc/chilloutmix-set/resolve/main/koreanDollLikeness_v10.safetensors\n",
        "!curl -Lo koreanDollLikeness_v15.safetensors https://huggingface.co/amornlnw7/koreanDollLikeness_v15/resolve/main/koreanDollLikeness_v15.safetensors\n",
        "!curl -Lo japaneseDollLikeness_v10.safetensors https://huggingface.co/aimainia/japaneseDollLikeness_v10/resolve/main/japaneseDollLikeness_v10.safetensors\n",
        "!curl -Lo hitoriGotohBocchiThe_v1.safetensors https://huggingface.co/LarryAIDraw/hitoriGotohBocchiThe_v1/resolve/main/hitoriGotohBocchiThe_v1.safetensors\n",
        "!mkdir /content/stable-diffusion-webui/models/Lora\n",
        "!mv \"/content/koreanDollLikeness_v10.safetensors\" \"/content/stable-diffusion-webui/models/Lora\"\n",
        "!mv \"/content/koreanDollLikeness_v15.safetensors\" \"/content/stable-diffusion-webui/models/Lora\"\n",
        "!mv \"/content/japaneseDollLikeness_v10.safetensors\" \"/content/stable-diffusion-webui/models/Lora\"\n",
        "!mv \"/content/remReZero_v10.safetensors\" \"/content/stable-diffusion-webui/models/Lora\"\n",
        "!mv \"/content/chilloutmixni.safetensors\" \"/content/stable-diffusion-webui/models/Stable-diffusion\"\n",
        "!mv \"/content/ulzzang-6500.pt\" \"/content/stable-diffusion-webui/embeddings\"\n",
        "!mv \"/content/hitoriGotohBocchiThe_v1.safetensors\" \"/content/stable-diffusion-webui/models/Lora\"\n",
        "%cd /content/stable-diffusion-webui\n",
        "!git checkout 91c8d0d\n",
        "!COMMANDLINE_ARGS=\"--share --disable-safe-unpickle --no-half-vae --xformers --reinstall-xformers --enable-insecure-extension-access\" REQS_FILE=\"requirements.txt\" python launch.py\n",
        "%pip install torch==1.13.1+cu117 torchvision==0.14.1+cu117 torchtext==0.14.1 torchaudio==0.13.1 torchdata==0.5.1 --extra-index-url https://download.pytorch.org/whl/cu117\n",
        "! rm -Rf /content/stable-diffusion-webui/outputs && ln -s /content/Gdrive/MyDrive/stable-diffusion-outputs /content/stable-diffusion-webui/outputs\n",
        "!COMMANDLINE_ARGS=\"--share --disable-safe-unpickle --no-half-vae --xformers --reinstall-xformers --enable-insecure-extension-access\" REQS_FILE=\"requirements.txt\" python launch.py\n",
        "\n",
        "\n"
      ]
    }
  ]
}
